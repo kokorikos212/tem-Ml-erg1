{
 "cells": [
  {
   "cell_type": "code",
   "execution_count": 1,
   "metadata": {},
   "outputs": [
    {
     "name": "stdout",
     "output_type": "stream",
     "text": [
      "Operating in : /home/thinpan/Desktop/24/ml tem/Ask/1erg/project_finals\n"
     ]
    }
   ],
   "source": [
    "import matplotlib.pyplot as plt\n",
    "import matplotlib.image as mpimg\n",
    "import random as rd \n",
    "import numpy as np \n",
    "import json \n",
    "# import pandas as pd \n",
    "import sys, os\n",
    "print(f\"Operating in : {os.getcwd()}\")\n",
    "from erg1 import *\n",
    "erg_inst = Erg1_TemMl(os.getcwd())"
   ]
  },
  {
   "cell_type": "markdown",
   "metadata": {},
   "source": [
    "##### Προσπαθώ οι λύσεις μου να είναι όσο το δυνατό πιο γενικές γίνεται, με καλή οργάνωση κώδικα σε κλάσεις χωρίς όμως να φτάνουμε το overkill. Τα παρακάτω είναι ένα πρόχειρο implementation των συναρτίσεων της βιβλιοθήκης και δεν σκοπεύουν από πλευράς σχολίων να σταθούν μόνα τους!!"
   ]
  },
  {
   "cell_type": "markdown",
   "metadata": {},
   "source": [
    "### Example matrix"
   ]
  },
  {
   "cell_type": "code",
   "execution_count": 4,
   "metadata": {},
   "outputs": [
    {
     "name": "stdout",
     "output_type": "stream",
     "text": [
      "{1.3659151736690793: array([0.45084318, 0.80021686, 0.39546606]), -0.32776004976016443: array([ 0.74137533, -0.56186229, -0.36697873]), 0.14378506401333158: array([-0.00291475, -0.35273933,  0.93571709])}\n"
     ]
    }
   ],
   "source": [
    "A = np.random.rand(3, 3)\n",
    "eigenvalues, eigenvectors = np.linalg.eig(A) \n",
    "eigen_dict = dict.fromkeys(eigenvalues, None)\n",
    "\n",
    "# Assign corresponding eigenvectors to each eigenvalue\n",
    "for eigenvalue, eigenvector in zip(eigenvalues, eigenvectors.T):\n",
    "    eigen_dict[eigenvalue] = eigenvector\n",
    "print(eigen_dict) \n",
    "# We probably see some complex eigenvlaues - eigenvectors"
   ]
  },
  {
   "cell_type": "markdown",
   "metadata": {},
   "source": [
    "### Δοκιμάζουμε την βιβλιοθήκη mas με έναν τυχαίο πίνακα"
   ]
  },
  {
   "cell_type": "code",
   "execution_count": 5,
   "metadata": {},
   "outputs": [
    {
     "name": "stdout",
     "output_type": "stream",
     "text": [
      "__power method__\n",
      "{1.3659151736587507: array([-0.,  0.,  0.]), 1.3659151736594402: array([-0.,  0.,  0.]), 1.3659151736603787: array([-0.,  0.,  0.])}\n"
     ]
    }
   ],
   "source": [
    "# Με την δική μας μέθοδο παρακάτω δεν μπορούμε να προσεγκίσουμε μιγαδικές ιδιο/τιμες/διανύσματα αλλά\n",
    "# δεν θα χρειαστεί αφού θα την χρησιμοποιήσουμε μόνο για τους ορθοκανονικοποιημένους πίνακες της svd . \n",
    "eigen_dict = erg_inst.power_method(A, 3) \n",
    "print(eigen_dict) "
   ]
  },
  {
   "cell_type": "markdown",
   "metadata": {},
   "source": [
    "### Load images on tensors "
   ]
  },
  {
   "cell_type": "code",
   "execution_count": 6,
   "metadata": {},
   "outputs": [],
   "source": [
    "images_paths = [\"/home/thinpan/Desktop/24/ml tem/Ask/1erg/project_finals/input/fotos/python_logo.png\",\n",
    "                \"/home/thinpan/Desktop/24/ml tem/Ask/1erg/project_finals/input/fotos/uoc_logo.png\"] \n",
    "pylogo = erg_inst.load_image_to_matrix(images_paths[0])\n",
    "uoclogo = erg_inst.load_image_to_matrix(images_paths[1]) "
   ]
  },
  {
   "cell_type": "code",
   "execution_count": 9,
   "metadata": {},
   "outputs": [],
   "source": [
    "# distinct the channels of each picture \n",
    "def boring_proc(images, names):\n",
    "    \"\"\"Epistrefei ta channels ton taniston\"\"\"\n",
    "    Channels = {}\n",
    "    for i, img_array in enumerate(images):\n",
    "        red_channel = img_array[:, :, 0]  \n",
    "        green_channel = img_array[:, :, 1]  \n",
    "        blue_channel = img_array[:, :, 2]  \n",
    "        alpha_channel = img_array[:, :, 3]  # όλοι  (203, 601)\n",
    "        Channels[i] = [red_channel, green_channel, blue_channel, alpha_channel]\n",
    "    return Channels \n",
    "names = [\"pylogo\",\"uoclogo\"]\n",
    "images = [pylogo, uoclogo]\n",
    "Channels = boring_proc(images, names) "
   ]
  },
  {
   "cell_type": "markdown",
   "metadata": {},
   "source": [
    "### Run SVD on the images using the existing numpy linalg lib"
   ]
  },
  {
   "cell_type": "code",
   "execution_count": null,
   "metadata": {},
   "outputs": [],
   "source": [
    "svd_pylogo = "
   ]
  },
  {
   "cell_type": "markdown",
   "metadata": {},
   "source": [
    "Load the data from the graphs"
   ]
  },
  {
   "cell_type": "code",
   "execution_count": 7,
   "metadata": {},
   "outputs": [
    {
     "name": "stdout",
     "output_type": "stream",
     "text": [
      "{'1': [2, 3, 4], '2': [3, 4], '3': [1], '4': [1, 3]}\n"
     ]
    }
   ],
   "source": [
    "json_graph1 = \"/home/thinpan/Desktop/24/ml tem/Ask/1erg/project_finals/input/graphs/graph0.json\" \n",
    "with open(json_graph1, 'r') as file:\n",
    "    # Load the JSON content\n",
    "    graph_data = json.load(file)\n",
    "print(graph_data)    "
   ]
  },
  {
   "cell_type": "code",
   "execution_count": 8,
   "metadata": {},
   "outputs": [
    {
     "name": "stdout",
     "output_type": "stream",
     "text": [
      "__createMarkov__\n",
      "We have a 4*4 matrix.\n",
      "__Markov created__\n",
      "[[0.0375     0.0375     0.8875     0.4625    ]\n",
      " [0.32083333 0.0375     0.0375     0.0375    ]\n",
      " [0.32083333 0.4625     0.0375     0.4625    ]\n",
      " [0.32083333 0.4625     0.0375     0.0375    ]]\n"
     ]
    }
   ],
   "source": [
    "# Try easy data:\n",
    "graph_data = {\n",
    "  \"1\": [2, 3, 4],\n",
    "  \"2\": [3, 4],\n",
    "  \"3\": [1],\n",
    "  \"4\": [1, 3]\n",
    "}\n",
    "print(erg_inst.createMarkov(graph_data))    "
   ]
  }
 ],
 "metadata": {
  "kernelspec": {
   "display_name": "Python 3",
   "language": "python",
   "name": "python3"
  },
  "language_info": {
   "codemirror_mode": {
    "name": "ipython",
    "version": 3
   },
   "file_extension": ".py",
   "mimetype": "text/x-python",
   "name": "python",
   "nbconvert_exporter": "python",
   "pygments_lexer": "ipython3",
   "version": "3.10.12"
  }
 },
 "nbformat": 4,
 "nbformat_minor": 2
}
